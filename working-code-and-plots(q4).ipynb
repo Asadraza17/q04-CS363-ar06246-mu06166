{
 "cells": [
  {
   "cell_type": "code",
   "execution_count": 75,
   "metadata": {},
   "outputs": [],
   "source": [
    "import networkx as nx\n",
    "import matplotlib.pyplot as plt\n",
    "\n",
    "\n",
    "G1= nx.erdos_renyi_graph(500,0.5)\n",
    "G2= nx.erdos_renyi_graph(300,0.25)\n",
    "G3= nx.erdos_renyi_graph(550,0.7) \n"
   ]
  },
  {
   "cell_type": "code",
   "execution_count": 76,
   "metadata": {},
   "outputs": [],
   "source": [
    "\n",
    "# function calculate average degree of graph\n",
    "def avg_degree(G):\n",
    "    avg_degree = sum(d for n, d in G.degree()) / G.number_of_nodes()\n",
    "    return avg_degree\n",
    "\n",
    "\n",
    "# function calculate average clustering coefficient\n",
    "def avg_clustering(G):\n",
    "    avg_clustering = nx.average_clustering(G)\n",
    "    return avg_clustering\n",
    "\n",
    "\n",
    "# function calculate average shortest path length\n",
    "def avg_shortest_path(G):\n",
    "    avg_shortest_path = nx.average_shortest_path_length(G)\n",
    "    return avg_shortest_path\n",
    "\n",
    "def plot_degree_distribution(G,n):\n",
    "    degree_list = []\n",
    "    for i, d in G.degree():\n",
    "        degree_list.append(d)\n",
    "    plt.title(\"Degree distribution of graph \"+str(n)+\"\\n Degree Value: \"+str(len(degree_list)))\n",
    "    plt.hist(degree_list, bins=100)\n",
    "    plt.hist(degree_list, bins=100,histtype='step',color='r')\n",
    "    plt.show()\n"
   ]
  },
  {
   "cell_type": "code",
   "execution_count": 77,
   "metadata": {},
   "outputs": [
    {
     "data": {
      "image/png": "[encoded data removed]",
      "text/plain": [
       "<Figure size 432x288 with 1 Axes>"
      ]
     },
     "metadata": {
      "needs_background": "light"
     },
     "output_type": "display_data"
    },
    {
     "data": {
      "image/png": "[encoded data removed]",
      "text/plain": [
       "<Figure size 432x288 with 1 Axes>"
      ]
     },
     "metadata": {
      "needs_background": "light"
     },
     "output_type": "display_data"
    },
    {
     "data": {
      "image/png": "[encoded data removed]",
      "text/plain": [
       "<Figure size 432x288 with 1 Axes>"
      ]
     },
     "metadata": {
      "needs_background": "light"
     },
     "output_type": "display_data"
    }
   ],
   "source": [
    "# plot degree distribution for each graph\n",
    "plot_degree_distribution(G1,1)\n",
    "plot_degree_distribution(G2,2)\n",
    "plot_degree_distribution(G3,3)\n"
   ]
  },
  {
   "cell_type": "code",
   "execution_count": 78,
   "metadata": {},
   "outputs": [],
   "source": [
    "# function to calculate each property 30 times and plot the average\n",
    "def calculate_and_plot(G, n):\n",
    "    degree_list = []\n",
    "    clustering_list = []\n",
    "    shortest_path_list = []\n",
    "    for i in range(30):\n",
    "        degree_list.append(avg_degree(G))\n",
    "        clustering_list.append(avg_clustering(G))\n",
    "        shortest_path_list.append(avg_shortest_path(G))\n",
    "    # plt.title(\"Graph:\"+str(n))\n",
    "    # plt.legend([\"Degree\",\"Clustering\",\"Shortest Path\"])\n",
    "    # plt.plot(degree_list)\n",
    "    # plt.plot(clustering_list)\n",
    "    # plt.plot(shortest_path_list)\n",
    "    # plot all three properties in one graph\n",
    "    # plt.plot(degree_list, label=\"Degree\")\n",
    "\n",
    "    # plt.plot(clustering_list, label=\"Clustering\")\n",
    "    # plt.plot(shortest_path_list, label=\"Shortest Path\")\n",
    "    # plt.legend()\n",
    "    # print the average of each property\n",
    "    print(\"----------------GRAPH #\"+str(n)+\"----------------------\")\n",
    "    print(\"Average degree G\"+str(n)+\":\", avg_degree(G))\n",
    "    print(\"Average clustering G\"+str(n)+\":\", avg_clustering(G))\n",
    "    print(\"Average shortest path G\"+str(n)+\":\", avg_shortest_path(G))\n",
    "    # plt.show()\n",
    "    print(\"------------------------------------------------------\")\n",
    "\n"
   ]
  },
  {
   "cell_type": "code",
   "execution_count": 79,
   "metadata": {},
   "outputs": [
    {
     "name": "stdout",
     "output_type": "stream",
     "text": [
      "----------------GRAPH #1----------------------\n",
      "Average degree G1: 249.836\n",
      "Average clustering G1: 0.5007513528134359\n",
      "Average shortest path G1: 1.4993266533066132\n",
      "------------------------------------------------------\n",
      "----------------GRAPH #2----------------------\n",
      "Average degree G2: 73.74\n",
      "Average clustering G2: 0.2480387158701041\n",
      "Average shortest path G2: 1.7533779264214047\n",
      "------------------------------------------------------\n",
      "----------------GRAPH #3----------------------\n",
      "Average degree G3: 384.20363636363635\n",
      "Average clustering G3: 0.6998399582971735\n",
      "Average shortest path G3: 1.3001755257492962\n",
      "------------------------------------------------------\n"
     ]
    }
   ],
   "source": [
    "# calculate and plot each graph 30 times\n",
    "calculate_and_plot(G1,1)\n",
    "calculate_and_plot(G2,2)\n",
    "calculate_and_plot(G3,3)"
   ]
  }
 ],
 "metadata": {
  "interpreter": {
   "hash": "916dbcbb3f70747c44a77c7bcd40155683ae19c65e1c03b4aa3499c5328201f1"
  },
  "kernelspec": {
   "display_name": "Python 3.8.10 64-bit",
   "language": "python",
   "name": "python3"
  },
  "language_info": {
   "codemirror_mode": {
    "name": "ipython",
    "version": 3
   },
   "file_extension": ".py",
   "mimetype": "text/x-python",
   "name": "python",
   "nbconvert_exporter": "python",
   "pygments_lexer": "ipython3",
   "version": "3.8.10"
  },
  "orig_nbformat": 4
 },
 "nbformat": 4,
 "nbformat_minor": 2
}
